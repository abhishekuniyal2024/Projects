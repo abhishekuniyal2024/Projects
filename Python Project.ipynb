{
 "cells": [
  {
   "cell_type": "markdown",
   "id": "ca5a8863-cc67-4725-bca8-fcbbe7179efd",
   "metadata": {},
   "source": [
    "## The dataset contains sales data for a clothing store that sells cloths across various online platforms."
   ]
  },
  {
   "cell_type": "code",
   "execution_count": 13,
   "id": "cf7c9aa9-c50c-4711-af90-e17948ffe850",
   "metadata": {},
   "outputs": [],
   "source": [
    "import pandas as pd\n",
    "import numpy as np\n",
    "import seaborn as sb\n",
    "import matplotlib.pyplot as plt"
   ]
  },
  {
   "cell_type": "code",
   "execution_count": 15,
   "id": "788ac9ff-398e-486f-b1e7-8644e0e9ce17",
   "metadata": {},
   "outputs": [
    {
     "data": {
      "text/html": [
       "<div>\n",
       "<style scoped>\n",
       "    .dataframe tbody tr th:only-of-type {\n",
       "        vertical-align: middle;\n",
       "    }\n",
       "\n",
       "    .dataframe tbody tr th {\n",
       "        vertical-align: top;\n",
       "    }\n",
       "\n",
       "    .dataframe thead th {\n",
       "        text-align: right;\n",
       "    }\n",
       "</style>\n",
       "<table border=\"1\" class=\"dataframe\">\n",
       "  <thead>\n",
       "    <tr style=\"text-align: right;\">\n",
       "      <th></th>\n",
       "      <th>index</th>\n",
       "      <th>Order ID</th>\n",
       "      <th>Cust ID</th>\n",
       "      <th>Gender</th>\n",
       "      <th>Age</th>\n",
       "      <th>Date</th>\n",
       "      <th>Month</th>\n",
       "      <th>Status</th>\n",
       "      <th>Platform</th>\n",
       "      <th>Category</th>\n",
       "      <th>Size</th>\n",
       "      <th>Amount</th>\n",
       "      <th>ship-city</th>\n",
       "      <th>ship-state</th>\n",
       "    </tr>\n",
       "  </thead>\n",
       "  <tbody>\n",
       "    <tr>\n",
       "      <th>0</th>\n",
       "      <td>9913</td>\n",
       "      <td>404-2354738-3233942</td>\n",
       "      <td>2354738</td>\n",
       "      <td>Women</td>\n",
       "      <td>67.0</td>\n",
       "      <td>2022-01-04</td>\n",
       "      <td>Jan</td>\n",
       "      <td>Delivered</td>\n",
       "      <td>Meesho</td>\n",
       "      <td>kurta</td>\n",
       "      <td>S</td>\n",
       "      <td>NaN</td>\n",
       "      <td>MUMBAI</td>\n",
       "      <td>MAHARASHTRA</td>\n",
       "    </tr>\n",
       "    <tr>\n",
       "      <th>1</th>\n",
       "      <td>9914</td>\n",
       "      <td>403-4459077-2255503</td>\n",
       "      <td>4459077</td>\n",
       "      <td>Women</td>\n",
       "      <td>NaN</td>\n",
       "      <td>2022-01-04</td>\n",
       "      <td>Jan</td>\n",
       "      <td>Delivered</td>\n",
       "      <td>Nalli</td>\n",
       "      <td>Set</td>\n",
       "      <td>XL</td>\n",
       "      <td>788.0</td>\n",
       "      <td>KALYAN</td>\n",
       "      <td>MAHARASHTRA</td>\n",
       "    </tr>\n",
       "    <tr>\n",
       "      <th>2</th>\n",
       "      <td>9915</td>\n",
       "      <td>403-4459077-2255503</td>\n",
       "      <td>4459077</td>\n",
       "      <td>Women</td>\n",
       "      <td>52.0</td>\n",
       "      <td>2022-01-04</td>\n",
       "      <td>Jan</td>\n",
       "      <td>Delivered</td>\n",
       "      <td>Amazon</td>\n",
       "      <td>kurta</td>\n",
       "      <td>S</td>\n",
       "      <td>362.0</td>\n",
       "      <td>HYDERABAD</td>\n",
       "      <td>TELANGANA</td>\n",
       "    </tr>\n",
       "    <tr>\n",
       "      <th>3</th>\n",
       "      <td>9916</td>\n",
       "      <td>403-4459077-2255503</td>\n",
       "      <td>4459077</td>\n",
       "      <td>Women</td>\n",
       "      <td>45.0</td>\n",
       "      <td>2022-01-04</td>\n",
       "      <td>Jan</td>\n",
       "      <td>Delivered</td>\n",
       "      <td>Myntra</td>\n",
       "      <td>Settt</td>\n",
       "      <td>XXL</td>\n",
       "      <td>NaN</td>\n",
       "      <td>VISAKHAPATNAM</td>\n",
       "      <td>ANDHRA PRADESH</td>\n",
       "    </tr>\n",
       "    <tr>\n",
       "      <th>4</th>\n",
       "      <td>9917</td>\n",
       "      <td>403-0387488-1209953</td>\n",
       "      <td>387488</td>\n",
       "      <td>Women</td>\n",
       "      <td>33.0</td>\n",
       "      <td>2022-01-04</td>\n",
       "      <td>Jan</td>\n",
       "      <td>Delivered</td>\n",
       "      <td>Flipkart</td>\n",
       "      <td>Settt</td>\n",
       "      <td>3XL</td>\n",
       "      <td>696.0</td>\n",
       "      <td>NAVI MUMBAI</td>\n",
       "      <td>MAHARASHTRA</td>\n",
       "    </tr>\n",
       "    <tr>\n",
       "      <th>5</th>\n",
       "      <td>9918</td>\n",
       "      <td>403-0387488-1209953</td>\n",
       "      <td>387488</td>\n",
       "      <td>Women</td>\n",
       "      <td>NaN</td>\n",
       "      <td>2022-01-04</td>\n",
       "      <td>Jan</td>\n",
       "      <td>Delivered</td>\n",
       "      <td>Myntra</td>\n",
       "      <td>Set</td>\n",
       "      <td>S</td>\n",
       "      <td>432.0</td>\n",
       "      <td>CHENNAI</td>\n",
       "      <td>TAMIL NADU</td>\n",
       "    </tr>\n",
       "    <tr>\n",
       "      <th>6</th>\n",
       "      <td>9919</td>\n",
       "      <td>403-0387488-1209953</td>\n",
       "      <td>387488</td>\n",
       "      <td>Men</td>\n",
       "      <td>46.0</td>\n",
       "      <td>2022-01-04</td>\n",
       "      <td>Jan</td>\n",
       "      <td>Delivered</td>\n",
       "      <td>Myntra</td>\n",
       "      <td>Set</td>\n",
       "      <td>XS</td>\n",
       "      <td>597.0</td>\n",
       "      <td>PUNE</td>\n",
       "      <td>MAHARASHTRA</td>\n",
       "    </tr>\n",
       "    <tr>\n",
       "      <th>7</th>\n",
       "      <td>9920</td>\n",
       "      <td>171-6657720-2910751</td>\n",
       "      <td>6657720</td>\n",
       "      <td>Women</td>\n",
       "      <td>43.0</td>\n",
       "      <td>2022-01-04</td>\n",
       "      <td>Jan</td>\n",
       "      <td>Delivered</td>\n",
       "      <td>Myntra</td>\n",
       "      <td>kurta</td>\n",
       "      <td>S</td>\n",
       "      <td>487.0</td>\n",
       "      <td>KANPUR</td>\n",
       "      <td>UTTAR PRADESH</td>\n",
       "    </tr>\n",
       "  </tbody>\n",
       "</table>\n",
       "</div>"
      ],
      "text/plain": [
       "   index             Order ID  Cust ID Gender   Age       Date Month  \\\n",
       "0   9913  404-2354738-3233942  2354738  Women  67.0 2022-01-04   Jan   \n",
       "1   9914  403-4459077-2255503  4459077  Women   NaN 2022-01-04   Jan   \n",
       "2   9915  403-4459077-2255503  4459077  Women  52.0 2022-01-04   Jan   \n",
       "3   9916  403-4459077-2255503  4459077  Women  45.0 2022-01-04   Jan   \n",
       "4   9917  403-0387488-1209953   387488  Women  33.0 2022-01-04   Jan   \n",
       "5   9918  403-0387488-1209953   387488  Women   NaN 2022-01-04   Jan   \n",
       "6   9919  403-0387488-1209953   387488    Men  46.0 2022-01-04   Jan   \n",
       "7   9920  171-6657720-2910751  6657720  Women  43.0 2022-01-04   Jan   \n",
       "\n",
       "      Status  Platform Category Size  Amount      ship-city      ship-state  \n",
       "0  Delivered    Meesho    kurta    S     NaN         MUMBAI     MAHARASHTRA  \n",
       "1  Delivered     Nalli      Set   XL   788.0         KALYAN     MAHARASHTRA  \n",
       "2  Delivered    Amazon    kurta    S   362.0      HYDERABAD       TELANGANA  \n",
       "3  Delivered    Myntra    Settt  XXL     NaN  VISAKHAPATNAM  ANDHRA PRADESH  \n",
       "4  Delivered  Flipkart    Settt  3XL   696.0    NAVI MUMBAI     MAHARASHTRA  \n",
       "5  Delivered    Myntra      Set    S   432.0        CHENNAI      TAMIL NADU  \n",
       "6  Delivered    Myntra      Set   XS   597.0           PUNE     MAHARASHTRA  \n",
       "7  Delivered    Myntra    kurta    S   487.0         KANPUR   UTTAR PRADESH  "
      ]
     },
     "execution_count": 15,
     "metadata": {},
     "output_type": "execute_result"
    }
   ],
   "source": [
    "df = pd.read_excel('Store Sale Data.xlsx')\n",
    "df.head(8)"
   ]
  },
  {
   "cell_type": "code",
   "execution_count": 17,
   "id": "9dff1476-b0f9-4b4e-b066-cd963f026d46",
   "metadata": {},
   "outputs": [
    {
     "name": "stdout",
     "output_type": "stream",
     "text": [
      "<class 'pandas.core.frame.DataFrame'>\n",
      "RangeIndex: 31047 entries, 0 to 31046\n",
      "Data columns (total 14 columns):\n",
      " #   Column      Non-Null Count  Dtype         \n",
      "---  ------      --------------  -----         \n",
      " 0   index       31047 non-null  int64         \n",
      " 1   Order ID    31047 non-null  object        \n",
      " 2   Cust ID     31047 non-null  int64         \n",
      " 3   Gender      31047 non-null  object        \n",
      " 4   Age         31043 non-null  float64       \n",
      " 5   Date        31047 non-null  datetime64[ns]\n",
      " 6   Month       31047 non-null  object        \n",
      " 7   Status      31047 non-null  object        \n",
      " 8   Platform    31047 non-null  object        \n",
      " 9   Category    31047 non-null  object        \n",
      " 10  Size        31047 non-null  object        \n",
      " 11  Amount      31044 non-null  float64       \n",
      " 12  ship-city   31047 non-null  object        \n",
      " 13  ship-state  31047 non-null  object        \n",
      "dtypes: datetime64[ns](1), float64(2), int64(2), object(9)\n",
      "memory usage: 3.3+ MB\n"
     ]
    }
   ],
   "source": [
    "df.info()"
   ]
  },
  {
   "cell_type": "markdown",
   "id": "9042129b-8974-48b1-a5a7-a47e91396cb8",
   "metadata": {},
   "source": [
    "### In this we can see we have 3 null value in Age and 3 null value in  Amount column. To solve null value issue we can either insert value or remove the row that have null value."
   ]
  },
  {
   "cell_type": "code",
   "execution_count": 19,
   "id": "5491770b-f0a9-4cd3-b4b8-c01bea06e053",
   "metadata": {},
   "outputs": [],
   "source": [
    "# here we are useing dropna to drop row with null value in amount column\n",
    "df = df.dropna(subset=['Amount'])"
   ]
  },
  {
   "cell_type": "code",
   "execution_count": 21,
   "id": "9ec24f53-405b-46b7-b502-c9536620876b",
   "metadata": {},
   "outputs": [],
   "source": [
    "# here we are using mean to insert value in Age column where it has null value\n",
    "mean_age = df['Age'].mean()\n",
    "df['Age'] = df['Age'].fillna(mean_age).astype(int)"
   ]
  },
  {
   "cell_type": "code",
   "execution_count": 23,
   "id": "acd08ae6-3d01-4e9a-b6b0-29e8a78e67c7",
   "metadata": {},
   "outputs": [],
   "source": [
    "# drop size column\n",
    "df.drop(columns=['Size'], inplace=True)"
   ]
  },
  {
   "cell_type": "code",
   "execution_count": 25,
   "id": "86f35cf3-4906-48d8-be57-89ad166d3c9c",
   "metadata": {},
   "outputs": [
    {
     "name": "stdout",
     "output_type": "stream",
     "text": [
      "<class 'pandas.core.frame.DataFrame'>\n",
      "Index: 31044 entries, 1 to 31046\n",
      "Data columns (total 13 columns):\n",
      " #   Column      Non-Null Count  Dtype         \n",
      "---  ------      --------------  -----         \n",
      " 0   index       31044 non-null  int64         \n",
      " 1   Order ID    31044 non-null  object        \n",
      " 2   Cust ID     31044 non-null  int64         \n",
      " 3   Gender      31044 non-null  object        \n",
      " 4   Age         31044 non-null  int32         \n",
      " 5   Date        31044 non-null  datetime64[ns]\n",
      " 6   Month       31044 non-null  object        \n",
      " 7   Status      31044 non-null  object        \n",
      " 8   Platform    31044 non-null  object        \n",
      " 9   Category    31044 non-null  object        \n",
      " 10  Amount      31044 non-null  float64       \n",
      " 11  ship-city   31044 non-null  object        \n",
      " 12  ship-state  31044 non-null  object        \n",
      "dtypes: datetime64[ns](1), float64(1), int32(1), int64(2), object(8)\n",
      "memory usage: 3.2+ MB\n"
     ]
    }
   ],
   "source": [
    "df.info()"
   ]
  },
  {
   "cell_type": "code",
   "execution_count": 27,
   "id": "909b8f4a-1894-4e31-89ea-f65ff1c4f8aa",
   "metadata": {},
   "outputs": [
    {
     "name": "stdout",
     "output_type": "stream",
     "text": [
      "['Set' 'kurta' 'Settt' 'Top' 'Western Dress' 'Ethnic Dress' 'Saree'\n",
      " 'Blouse' 'Bottom']\n"
     ]
    }
   ],
   "source": [
    "# Check for unique values in the Category column to see spelling mistake\n",
    "print(df['Category'].unique())"
   ]
  },
  {
   "cell_type": "markdown",
   "id": "72aaaaba-5e43-44cc-8de0-251ec6fac35c",
   "metadata": {},
   "source": [
    "### we find 'Settt' which is 'Set' written wrong. "
   ]
  },
  {
   "cell_type": "code",
   "execution_count": 23,
   "id": "4d1164f7-54a0-4439-9ec0-1437a90ee534",
   "metadata": {},
   "outputs": [],
   "source": [
    "# we will replace 'Settt' with 'Set'. \n",
    "df['Category'] = df['Category'].replace({'Settt': 'Set'})"
   ]
  },
  {
   "cell_type": "code",
   "execution_count": 26,
   "id": "b99f4d92-dc4c-4c41-9bb3-6238e34e0588",
   "metadata": {},
   "outputs": [
    {
     "data": {
      "text/html": [
       "<div>\n",
       "<style scoped>\n",
       "    .dataframe tbody tr th:only-of-type {\n",
       "        vertical-align: middle;\n",
       "    }\n",
       "\n",
       "    .dataframe tbody tr th {\n",
       "        vertical-align: top;\n",
       "    }\n",
       "\n",
       "    .dataframe thead th {\n",
       "        text-align: right;\n",
       "    }\n",
       "</style>\n",
       "<table border=\"1\" class=\"dataframe\">\n",
       "  <thead>\n",
       "    <tr style=\"text-align: right;\">\n",
       "      <th></th>\n",
       "      <th>index</th>\n",
       "      <th>Order ID</th>\n",
       "      <th>Cust ID</th>\n",
       "      <th>Sex</th>\n",
       "      <th>Age</th>\n",
       "      <th>Date</th>\n",
       "      <th>Month</th>\n",
       "      <th>Status</th>\n",
       "      <th>Platform</th>\n",
       "      <th>Category</th>\n",
       "      <th>Size</th>\n",
       "      <th>Amount</th>\n",
       "      <th>ship-city</th>\n",
       "      <th>ship-state</th>\n",
       "    </tr>\n",
       "  </thead>\n",
       "  <tbody>\n",
       "    <tr>\n",
       "      <th>0</th>\n",
       "      <td>9913</td>\n",
       "      <td>404-2354738-3233942</td>\n",
       "      <td>2354738</td>\n",
       "      <td>Women</td>\n",
       "      <td>67.0</td>\n",
       "      <td>2022-01-04</td>\n",
       "      <td>Jan</td>\n",
       "      <td>Delivered</td>\n",
       "      <td>Meesho</td>\n",
       "      <td>kurta</td>\n",
       "      <td>S</td>\n",
       "      <td>NaN</td>\n",
       "      <td>MUMBAI</td>\n",
       "      <td>MAHARASHTRA</td>\n",
       "    </tr>\n",
       "    <tr>\n",
       "      <th>1</th>\n",
       "      <td>9914</td>\n",
       "      <td>403-4459077-2255503</td>\n",
       "      <td>4459077</td>\n",
       "      <td>Women</td>\n",
       "      <td>NaN</td>\n",
       "      <td>2022-01-04</td>\n",
       "      <td>Jan</td>\n",
       "      <td>Delivered</td>\n",
       "      <td>Nalli</td>\n",
       "      <td>Set</td>\n",
       "      <td>XL</td>\n",
       "      <td>788.0</td>\n",
       "      <td>KALYAN</td>\n",
       "      <td>MAHARASHTRA</td>\n",
       "    </tr>\n",
       "    <tr>\n",
       "      <th>2</th>\n",
       "      <td>9915</td>\n",
       "      <td>403-4459077-2255503</td>\n",
       "      <td>4459077</td>\n",
       "      <td>Women</td>\n",
       "      <td>52.0</td>\n",
       "      <td>2022-01-04</td>\n",
       "      <td>Jan</td>\n",
       "      <td>Delivered</td>\n",
       "      <td>Amazon</td>\n",
       "      <td>kurta</td>\n",
       "      <td>S</td>\n",
       "      <td>362.0</td>\n",
       "      <td>HYDERABAD</td>\n",
       "      <td>TELANGANA</td>\n",
       "    </tr>\n",
       "    <tr>\n",
       "      <th>3</th>\n",
       "      <td>9916</td>\n",
       "      <td>403-4459077-2255503</td>\n",
       "      <td>4459077</td>\n",
       "      <td>Women</td>\n",
       "      <td>45.0</td>\n",
       "      <td>2022-01-04</td>\n",
       "      <td>Jan</td>\n",
       "      <td>Delivered</td>\n",
       "      <td>Myntra</td>\n",
       "      <td>Set</td>\n",
       "      <td>XXL</td>\n",
       "      <td>NaN</td>\n",
       "      <td>VISAKHAPATNAM</td>\n",
       "      <td>ANDHRA PRADESH</td>\n",
       "    </tr>\n",
       "    <tr>\n",
       "      <th>4</th>\n",
       "      <td>9917</td>\n",
       "      <td>403-0387488-1209953</td>\n",
       "      <td>387488</td>\n",
       "      <td>Women</td>\n",
       "      <td>33.0</td>\n",
       "      <td>2022-01-04</td>\n",
       "      <td>Jan</td>\n",
       "      <td>Delivered</td>\n",
       "      <td>Flipkart</td>\n",
       "      <td>Set</td>\n",
       "      <td>3XL</td>\n",
       "      <td>696.0</td>\n",
       "      <td>NAVI MUMBAI</td>\n",
       "      <td>MAHARASHTRA</td>\n",
       "    </tr>\n",
       "    <tr>\n",
       "      <th>...</th>\n",
       "      <td>...</td>\n",
       "      <td>...</td>\n",
       "      <td>...</td>\n",
       "      <td>...</td>\n",
       "      <td>...</td>\n",
       "      <td>...</td>\n",
       "      <td>...</td>\n",
       "      <td>...</td>\n",
       "      <td>...</td>\n",
       "      <td>...</td>\n",
       "      <td>...</td>\n",
       "      <td>...</td>\n",
       "      <td>...</td>\n",
       "      <td>...</td>\n",
       "    </tr>\n",
       "    <tr>\n",
       "      <th>31042</th>\n",
       "      <td>22461</td>\n",
       "      <td>171-0107864-0451508</td>\n",
       "      <td>107864</td>\n",
       "      <td>Women</td>\n",
       "      <td>37.0</td>\n",
       "      <td>2022-12-06</td>\n",
       "      <td>Dec</td>\n",
       "      <td>Delivered</td>\n",
       "      <td>Flipkart</td>\n",
       "      <td>kurta</td>\n",
       "      <td>S</td>\n",
       "      <td>432.0</td>\n",
       "      <td>GREATER NOIDA</td>\n",
       "      <td>UTTAR PRADESH</td>\n",
       "    </tr>\n",
       "    <tr>\n",
       "      <th>31043</th>\n",
       "      <td>22462</td>\n",
       "      <td>402-4584926-6662760</td>\n",
       "      <td>4584926</td>\n",
       "      <td>Women</td>\n",
       "      <td>33.0</td>\n",
       "      <td>2022-12-06</td>\n",
       "      <td>Dec</td>\n",
       "      <td>Delivered</td>\n",
       "      <td>Ajio</td>\n",
       "      <td>Top</td>\n",
       "      <td>M</td>\n",
       "      <td>513.0</td>\n",
       "      <td>BILASPUR</td>\n",
       "      <td>HARYANA</td>\n",
       "    </tr>\n",
       "    <tr>\n",
       "      <th>31044</th>\n",
       "      <td>22463</td>\n",
       "      <td>171-8969189-9407563</td>\n",
       "      <td>8969189</td>\n",
       "      <td>Women</td>\n",
       "      <td>23.0</td>\n",
       "      <td>2022-12-06</td>\n",
       "      <td>Dec</td>\n",
       "      <td>Delivered</td>\n",
       "      <td>Amazon</td>\n",
       "      <td>kurta</td>\n",
       "      <td>XS</td>\n",
       "      <td>376.0</td>\n",
       "      <td>MUDBIDRI</td>\n",
       "      <td>KARNATAKA</td>\n",
       "    </tr>\n",
       "    <tr>\n",
       "      <th>31045</th>\n",
       "      <td>22464</td>\n",
       "      <td>402-8980387-5965930</td>\n",
       "      <td>8980387</td>\n",
       "      <td>Women</td>\n",
       "      <td>37.0</td>\n",
       "      <td>2022-12-06</td>\n",
       "      <td>Dec</td>\n",
       "      <td>Delivered</td>\n",
       "      <td>Myntra</td>\n",
       "      <td>Set</td>\n",
       "      <td>M</td>\n",
       "      <td>1432.0</td>\n",
       "      <td>NAVI MUMBAI</td>\n",
       "      <td>MAHARASHTRA</td>\n",
       "    </tr>\n",
       "    <tr>\n",
       "      <th>31046</th>\n",
       "      <td>22465</td>\n",
       "      <td>403-7494956-4624309</td>\n",
       "      <td>7494956</td>\n",
       "      <td>Women</td>\n",
       "      <td>45.0</td>\n",
       "      <td>2022-12-06</td>\n",
       "      <td>Dec</td>\n",
       "      <td>Delivered</td>\n",
       "      <td>Myntra</td>\n",
       "      <td>kurta</td>\n",
       "      <td>S</td>\n",
       "      <td>292.0</td>\n",
       "      <td>MUMBAI</td>\n",
       "      <td>MAHARASHTRA</td>\n",
       "    </tr>\n",
       "  </tbody>\n",
       "</table>\n",
       "<p>31047 rows × 14 columns</p>\n",
       "</div>"
      ],
      "text/plain": [
       "       index             Order ID  Cust ID    Sex   Age       Date Month  \\\n",
       "0       9913  404-2354738-3233942  2354738  Women  67.0 2022-01-04   Jan   \n",
       "1       9914  403-4459077-2255503  4459077  Women   NaN 2022-01-04   Jan   \n",
       "2       9915  403-4459077-2255503  4459077  Women  52.0 2022-01-04   Jan   \n",
       "3       9916  403-4459077-2255503  4459077  Women  45.0 2022-01-04   Jan   \n",
       "4       9917  403-0387488-1209953   387488  Women  33.0 2022-01-04   Jan   \n",
       "...      ...                  ...      ...    ...   ...        ...   ...   \n",
       "31042  22461  171-0107864-0451508   107864  Women  37.0 2022-12-06   Dec   \n",
       "31043  22462  402-4584926-6662760  4584926  Women  33.0 2022-12-06   Dec   \n",
       "31044  22463  171-8969189-9407563  8969189  Women  23.0 2022-12-06   Dec   \n",
       "31045  22464  402-8980387-5965930  8980387  Women  37.0 2022-12-06   Dec   \n",
       "31046  22465  403-7494956-4624309  7494956  Women  45.0 2022-12-06   Dec   \n",
       "\n",
       "          Status  Platform Category Size  Amount      ship-city  \\\n",
       "0      Delivered    Meesho    kurta    S     NaN         MUMBAI   \n",
       "1      Delivered     Nalli      Set   XL   788.0         KALYAN   \n",
       "2      Delivered    Amazon    kurta    S   362.0      HYDERABAD   \n",
       "3      Delivered    Myntra      Set  XXL     NaN  VISAKHAPATNAM   \n",
       "4      Delivered  Flipkart      Set  3XL   696.0    NAVI MUMBAI   \n",
       "...          ...       ...      ...  ...     ...            ...   \n",
       "31042  Delivered  Flipkart    kurta    S   432.0  GREATER NOIDA   \n",
       "31043  Delivered      Ajio      Top    M   513.0       BILASPUR   \n",
       "31044  Delivered    Amazon    kurta   XS   376.0       MUDBIDRI   \n",
       "31045  Delivered    Myntra      Set    M  1432.0    NAVI MUMBAI   \n",
       "31046  Delivered    Myntra    kurta    S   292.0         MUMBAI   \n",
       "\n",
       "           ship-state  \n",
       "0         MAHARASHTRA  \n",
       "1         MAHARASHTRA  \n",
       "2           TELANGANA  \n",
       "3      ANDHRA PRADESH  \n",
       "4         MAHARASHTRA  \n",
       "...               ...  \n",
       "31042   UTTAR PRADESH  \n",
       "31043         HARYANA  \n",
       "31044       KARNATAKA  \n",
       "31045     MAHARASHTRA  \n",
       "31046     MAHARASHTRA  \n",
       "\n",
       "[31047 rows x 14 columns]"
      ]
     },
     "execution_count": 26,
     "metadata": {},
     "output_type": "execute_result"
    }
   ],
   "source": [
    "# rename column. we can use in place to make change permanent.\n",
    "df.rename(columns={'Gender':'Sex'})"
   ]
  },
  {
   "cell_type": "code",
   "execution_count": 33,
   "id": "02c07dbd-0743-4826-bc48-46c672f149bb",
   "metadata": {},
   "outputs": [
    {
     "data": {
      "text/html": [
       "<div>\n",
       "<style scoped>\n",
       "    .dataframe tbody tr th:only-of-type {\n",
       "        vertical-align: middle;\n",
       "    }\n",
       "\n",
       "    .dataframe tbody tr th {\n",
       "        vertical-align: top;\n",
       "    }\n",
       "\n",
       "    .dataframe thead th {\n",
       "        text-align: right;\n",
       "    }\n",
       "</style>\n",
       "<table border=\"1\" class=\"dataframe\">\n",
       "  <thead>\n",
       "    <tr style=\"text-align: right;\">\n",
       "      <th></th>\n",
       "      <th>index</th>\n",
       "      <th>Cust ID</th>\n",
       "      <th>Age</th>\n",
       "      <th>Date</th>\n",
       "      <th>Amount</th>\n",
       "    </tr>\n",
       "  </thead>\n",
       "  <tbody>\n",
       "    <tr>\n",
       "      <th>count</th>\n",
       "      <td>31044.000000</td>\n",
       "      <td>3.104400e+04</td>\n",
       "      <td>31044.000000</td>\n",
       "      <td>31044</td>\n",
       "      <td>31044.000000</td>\n",
       "    </tr>\n",
       "    <tr>\n",
       "      <th>mean</th>\n",
       "      <td>15524.541779</td>\n",
       "      <td>4.936764e+06</td>\n",
       "      <td>39.494910</td>\n",
       "      <td>2022-06-15 07:04:14.657904896</td>\n",
       "      <td>682.039911</td>\n",
       "    </tr>\n",
       "    <tr>\n",
       "      <th>min</th>\n",
       "      <td>1.000000</td>\n",
       "      <td>8.950000e+02</td>\n",
       "      <td>18.000000</td>\n",
       "      <td>2022-01-04 00:00:00</td>\n",
       "      <td>229.000000</td>\n",
       "    </tr>\n",
       "    <tr>\n",
       "      <th>25%</th>\n",
       "      <td>7761.750000</td>\n",
       "      <td>2.416540e+06</td>\n",
       "      <td>28.000000</td>\n",
       "      <td>2022-03-06 00:00:00</td>\n",
       "      <td>486.000000</td>\n",
       "    </tr>\n",
       "    <tr>\n",
       "      <th>50%</th>\n",
       "      <td>15525.500000</td>\n",
       "      <td>4.909992e+06</td>\n",
       "      <td>37.000000</td>\n",
       "      <td>2022-06-06 00:00:00</td>\n",
       "      <td>646.000000</td>\n",
       "    </tr>\n",
       "    <tr>\n",
       "      <th>75%</th>\n",
       "      <td>23286.250000</td>\n",
       "      <td>7.454179e+06</td>\n",
       "      <td>47.000000</td>\n",
       "      <td>2022-09-06 00:00:00</td>\n",
       "      <td>794.000000</td>\n",
       "    </tr>\n",
       "    <tr>\n",
       "      <th>max</th>\n",
       "      <td>31047.000000</td>\n",
       "      <td>9.999233e+06</td>\n",
       "      <td>78.000000</td>\n",
       "      <td>2022-12-06 00:00:00</td>\n",
       "      <td>3036.000000</td>\n",
       "    </tr>\n",
       "    <tr>\n",
       "      <th>std</th>\n",
       "      <td>8962.904842</td>\n",
       "      <td>2.900645e+06</td>\n",
       "      <td>15.115348</td>\n",
       "      <td>NaN</td>\n",
       "      <td>268.559457</td>\n",
       "    </tr>\n",
       "  </tbody>\n",
       "</table>\n",
       "</div>"
      ],
      "text/plain": [
       "              index       Cust ID           Age  \\\n",
       "count  31044.000000  3.104400e+04  31044.000000   \n",
       "mean   15524.541779  4.936764e+06     39.494910   \n",
       "min        1.000000  8.950000e+02     18.000000   \n",
       "25%     7761.750000  2.416540e+06     28.000000   \n",
       "50%    15525.500000  4.909992e+06     37.000000   \n",
       "75%    23286.250000  7.454179e+06     47.000000   \n",
       "max    31047.000000  9.999233e+06     78.000000   \n",
       "std     8962.904842  2.900645e+06     15.115348   \n",
       "\n",
       "                                Date        Amount  \n",
       "count                          31044  31044.000000  \n",
       "mean   2022-06-15 07:04:14.657904896    682.039911  \n",
       "min              2022-01-04 00:00:00    229.000000  \n",
       "25%              2022-03-06 00:00:00    486.000000  \n",
       "50%              2022-06-06 00:00:00    646.000000  \n",
       "75%              2022-09-06 00:00:00    794.000000  \n",
       "max              2022-12-06 00:00:00   3036.000000  \n",
       "std                              NaN    268.559457  "
      ]
     },
     "execution_count": 33,
     "metadata": {},
     "output_type": "execute_result"
    }
   ],
   "source": [
    "df.describe()"
   ]
  },
  {
   "cell_type": "markdown",
   "id": "77823bcc-0645-4348-9afe-ad1874a103b5",
   "metadata": {},
   "source": [
    "# Exploratory Data Analysis"
   ]
  },
  {
   "cell_type": "code",
   "execution_count": 39,
   "id": "42745a6c-c3da-4511-85dc-2a23c4232b18",
   "metadata": {},
   "outputs": [
    {
     "data": {
      "image/png": "[encoded data removed]",
      "text/plain": [
       "<Figure size 400x400 with 1 Axes>"
      ]
     },
     "metadata": {},
     "output_type": "display_data"
    }
   ],
   "source": [
    "# Group the data by Gender and sum the sales amount\n",
    "sales_by_gender = df.groupby('Gender')['Amount'].sum()\n",
    "\n",
    "plt.figure(figsize=(4, 4))\n",
    "plt.pie(sales_by_gender, labels=sales_by_gender.index, autopct='%1.1f%%', startangle=140)\n",
    "plt.title('Sales Distribution by Gender')\n",
    "plt.show()"
   ]
  },
  {
   "cell_type": "markdown",
   "id": "6b4b9441-8129-4f7b-bd03-ca2da9fb4040",
   "metadata": {},
   "source": [
    "#### Women make more purchase than Men"
   ]
  },
  {
   "cell_type": "code",
   "execution_count": 53,
   "id": "305ca562-3b8c-4d59-a0fc-57ed8a1c2620",
   "metadata": {},
   "outputs": [
    {
     "data": {
      "image/png": "[encoded data removed]",
      "text/plain": [
       "<Figure size 640x480 with 1 Axes>"
      ]
     },
     "metadata": {},
     "output_type": "display_data"
    }
   ],
   "source": [
    "# Sales on Month basic in descending order\n",
    "month_order = df['Month'].value_counts().index\n",
    "a = sb.countplot(x='Month', data=df, order=month_order)\n",
    "for bars in a.containers:\n",
    "    a.bar_label(bars)"
   ]
  },
  {
   "cell_type": "markdown",
   "id": "e2390786-7a75-4b9d-ba29-44a8dd5cfeeb",
   "metadata": {},
   "source": [
    "#### Jan, Feb and March month has most sales"
   ]
  },
  {
   "cell_type": "code",
   "execution_count": 97,
   "id": "99d8e8e7-3b38-4e21-b37b-9625f892e86e",
   "metadata": {},
   "outputs": [
    {
     "data": {
      "image/png": "[encoded data removed]",
      "text/plain": [
       "<Figure size 640x480 with 1 Axes>"
      ]
     },
     "metadata": {},
     "output_type": "display_data"
    }
   ],
   "source": [
    "# sales based on platform\n",
    "a = sb.countplot(data = df, x = 'Platform')\n",
    "for bars in a.containers:\n",
    "    a.bar_label(bars)"
   ]
  },
  {
   "cell_type": "markdown",
   "id": "8459b461-460f-413c-ae1d-b23b1523749f",
   "metadata": {},
   "source": [
    "#### The majority of sales occur on the Amazon, Flipkart and Myntra platforms."
   ]
  },
  {
   "cell_type": "code",
   "execution_count": 70,
   "id": "25a24eea-054f-4fdd-b9e6-b45d15b15d36",
   "metadata": {},
   "outputs": [
    {
     "data": {
      "image/png": "[encoded data removed]",
      "text/plain": [
       "<Figure size 1000x400 with 1 Axes>"
      ]
     },
     "metadata": {},
     "output_type": "display_data"
    }
   ],
   "source": [
    "# top 10 states by Sale Amount\n",
    "plt.figure(figsize=(10, 4))\n",
    "sb.barplot(x='Amount', y='ship-state', data=top_10_states)\n",
    "plt.xlabel('Total Sales Amount')\n",
    "plt.ylabel('State')\n",
    "plt.title('Top 10 States by Sales Amount')\n",
    "plt.show()"
   ]
  },
  {
   "cell_type": "markdown",
   "id": "fb07bd3f-f4d5-4ffb-af33-445fe3e8052a",
   "metadata": {},
   "source": [
    "#### Maharashtra, Karnataka, Uttar Pradesh, Telangana and Tamil Nadu generate the highest revenue."
   ]
  },
  {
   "cell_type": "code",
   "execution_count": 143,
   "id": "c4ce3dff-efb9-4bf6-82a6-5e4c3cc1bc4d",
   "metadata": {},
   "outputs": [
    {
     "data": {
      "image/png": "[encoded data removed]",
      "text/plain": [
       "<Figure size 640x480 with 1 Axes>"
      ]
     },
     "metadata": {},
     "output_type": "display_data"
    }
   ],
   "source": [
    "# sales based on platform\n",
    "a = sb.countplot(data = df, y = 'Category')\n",
    "for bars in a.containers:\n",
    "    a.bar_label(bars)"
   ]
  },
  {
   "cell_type": "markdown",
   "id": "60613a60-26e9-4f8e-ae56-918be832eb39",
   "metadata": {},
   "source": [
    "#### Set, kurtas and western dresses are the most sold products."
   ]
  },
  {
   "cell_type": "markdown",
   "id": "e5128fa0-9c3a-4f1f-933c-29c44aeb2e97",
   "metadata": {},
   "source": [
    "# Insights:"
   ]
  },
  {
   "cell_type": "markdown",
   "id": "0a4b1093-0d4d-4795-b3a4-5d1f3d7bcfdf",
   "metadata": {},
   "source": [
    "1. Women make the most purchases.\n",
    "2. Maharashtra, Karnataka, Uttar Pradesh, Telangana and Tamil Nadu generate the highest revenue.\n",
    "3. The majority of sales occur on the Amazon, Flipkart and Myntra platforms.\n",
    "4. Most sales happen in the months of January, February and March.\n",
    "5. Set, kurtas and western dresses are the most sold products."
   ]
  },
  {
   "cell_type": "markdown",
   "id": "1af2eeba-2dc4-475b-a38a-eb441f5615ac",
   "metadata": {},
   "source": [
    "# Conclusion:"
   ]
  },
  {
   "cell_type": "markdown",
   "id": "68be905b-2eeb-43fb-9017-a04d9bf6ef34",
   "metadata": {},
   "source": [
    "## Focus on women’s clothing, particularly kurtas, set and western dresses, primarily on Amazon, Flipkart and Myntra during the months of January, February and March. Target customers in Maharashtra, Karnataka, Uttar Pradesh, Telangana, and Tamil Nadu."
   ]
  }
 ],
 "metadata": {
  "kernelspec": {
   "display_name": "Python [conda env:base] *",
   "language": "python",
   "name": "conda-base-py"
  },
  "language_info": {
   "codemirror_mode": {
    "name": "ipython",
    "version": 3
   },
   "file_extension": ".py",
   "mimetype": "text/x-python",
   "name": "python",
   "nbconvert_exporter": "python",
   "pygments_lexer": "ipython3",
   "version": "3.12.4"
  }
 },
 "nbformat": 4,
 "nbformat_minor": 5
}
